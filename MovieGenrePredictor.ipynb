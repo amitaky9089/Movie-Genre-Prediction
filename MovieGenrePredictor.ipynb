{
 "cells": [
  {
   "cell_type": "code",
   "execution_count": 6,
   "id": "eacd055d-c2b2-41aa-bca6-d0737eee5b3b",
   "metadata": {},
   "outputs": [],
   "source": [
    "import pandas as pd\n",
    "from sklearn.feature_extraction.text import TfidfVectorizer\n",
    "from sklearn.linear_model import LogisticRegression\n",
    "from sklearn.model_selection import train_test_split\n",
    "from sklearn.metrics import accuracy_score, classification_report\n"
   ]
  },
  {
   "cell_type": "code",
   "execution_count": 7,
   "id": "a34297a2-98cc-45dc-838b-ca9850a9d026",
   "metadata": {},
   "outputs": [],
   "source": [
    "# Replace 'train_data.txt' and 'test_data.txt' with the paths to your dataset files\n",
    "train_file_path = 'train_data.txt'\n",
    "test_file_path = 'test_data.txt'\n",
    "\n",
    "# Load training data\n",
    "train_data = pd.read_csv(train_file_path, sep=' ::: ', engine='python', names=['ID', 'Title', 'Genre', 'Description'])\n",
    "# Load test data\n",
    "test_data = pd.read_csv(test_file_path, sep=' ::: ', engine='python', names=['ID', 'Title', 'Description'])\n",
    "\n",
    "# Extract features and labels from training data\n",
    "X_train = train_data['Description']\n",
    "y_train = train_data['Genre']\n",
    "\n",
    "# Extract features from test data\n",
    "X_test = test_data['Description']\n"
   ]
  },
  {
   "cell_type": "code",
   "execution_count": 8,
   "id": "4c581d9b-4834-4e0b-9f11-04925b91266f",
   "metadata": {},
   "outputs": [],
   "source": [
    "# Initialize TF-IDF Vectorizer\n",
    "tfidf_vectorizer = TfidfVectorizer(stop_words='english', max_features=5000)\n",
    "\n",
    "# Fit and transform the training data\n",
    "X_train_tfidf = tfidf_vectorizer.fit_transform(X_train)\n",
    "\n",
    "# Transform the test data\n",
    "X_test_tfidf = tfidf_vectorizer.transform(X_test)\n"
   ]
  },
  {
   "cell_type": "code",
   "execution_count": 9,
   "id": "74c0179a-cba9-43a9-89c5-7dd9b0d06c2e",
   "metadata": {},
   "outputs": [
    {
     "name": "stderr",
     "output_type": "stream",
     "text": [
      "C:\\Users\\Anant Kumar Jaiswal\\anaconda3\\Lib\\site-packages\\sklearn\\linear_model\\_logistic.py:458: ConvergenceWarning: lbfgs failed to converge (status=1):\n",
      "STOP: TOTAL NO. of ITERATIONS REACHED LIMIT.\n",
      "\n",
      "Increase the number of iterations (max_iter) or scale the data as shown in:\n",
      "    https://scikit-learn.org/stable/modules/preprocessing.html\n",
      "Please also refer to the documentation for alternative solver options:\n",
      "    https://scikit-learn.org/stable/modules/linear_model.html#logistic-regression\n",
      "  n_iter_i = _check_optimize_result(\n"
     ]
    },
    {
     "data": {
      "text/html": [
       "<style>#sk-container-id-1 {color: black;background-color: white;}#sk-container-id-1 pre{padding: 0;}#sk-container-id-1 div.sk-toggleable {background-color: white;}#sk-container-id-1 label.sk-toggleable__label {cursor: pointer;display: block;width: 100%;margin-bottom: 0;padding: 0.3em;box-sizing: border-box;text-align: center;}#sk-container-id-1 label.sk-toggleable__label-arrow:before {content: \"▸\";float: left;margin-right: 0.25em;color: #696969;}#sk-container-id-1 label.sk-toggleable__label-arrow:hover:before {color: black;}#sk-container-id-1 div.sk-estimator:hover label.sk-toggleable__label-arrow:before {color: black;}#sk-container-id-1 div.sk-toggleable__content {max-height: 0;max-width: 0;overflow: hidden;text-align: left;background-color: #f0f8ff;}#sk-container-id-1 div.sk-toggleable__content pre {margin: 0.2em;color: black;border-radius: 0.25em;background-color: #f0f8ff;}#sk-container-id-1 input.sk-toggleable__control:checked~div.sk-toggleable__content {max-height: 200px;max-width: 100%;overflow: auto;}#sk-container-id-1 input.sk-toggleable__control:checked~label.sk-toggleable__label-arrow:before {content: \"▾\";}#sk-container-id-1 div.sk-estimator input.sk-toggleable__control:checked~label.sk-toggleable__label {background-color: #d4ebff;}#sk-container-id-1 div.sk-label input.sk-toggleable__control:checked~label.sk-toggleable__label {background-color: #d4ebff;}#sk-container-id-1 input.sk-hidden--visually {border: 0;clip: rect(1px 1px 1px 1px);clip: rect(1px, 1px, 1px, 1px);height: 1px;margin: -1px;overflow: hidden;padding: 0;position: absolute;width: 1px;}#sk-container-id-1 div.sk-estimator {font-family: monospace;background-color: #f0f8ff;border: 1px dotted black;border-radius: 0.25em;box-sizing: border-box;margin-bottom: 0.5em;}#sk-container-id-1 div.sk-estimator:hover {background-color: #d4ebff;}#sk-container-id-1 div.sk-parallel-item::after {content: \"\";width: 100%;border-bottom: 1px solid gray;flex-grow: 1;}#sk-container-id-1 div.sk-label:hover label.sk-toggleable__label {background-color: #d4ebff;}#sk-container-id-1 div.sk-serial::before {content: \"\";position: absolute;border-left: 1px solid gray;box-sizing: border-box;top: 0;bottom: 0;left: 50%;z-index: 0;}#sk-container-id-1 div.sk-serial {display: flex;flex-direction: column;align-items: center;background-color: white;padding-right: 0.2em;padding-left: 0.2em;position: relative;}#sk-container-id-1 div.sk-item {position: relative;z-index: 1;}#sk-container-id-1 div.sk-parallel {display: flex;align-items: stretch;justify-content: center;background-color: white;position: relative;}#sk-container-id-1 div.sk-item::before, #sk-container-id-1 div.sk-parallel-item::before {content: \"\";position: absolute;border-left: 1px solid gray;box-sizing: border-box;top: 0;bottom: 0;left: 50%;z-index: -1;}#sk-container-id-1 div.sk-parallel-item {display: flex;flex-direction: column;z-index: 1;position: relative;background-color: white;}#sk-container-id-1 div.sk-parallel-item:first-child::after {align-self: flex-end;width: 50%;}#sk-container-id-1 div.sk-parallel-item:last-child::after {align-self: flex-start;width: 50%;}#sk-container-id-1 div.sk-parallel-item:only-child::after {width: 0;}#sk-container-id-1 div.sk-dashed-wrapped {border: 1px dashed gray;margin: 0 0.4em 0.5em 0.4em;box-sizing: border-box;padding-bottom: 0.4em;background-color: white;}#sk-container-id-1 div.sk-label label {font-family: monospace;font-weight: bold;display: inline-block;line-height: 1.2em;}#sk-container-id-1 div.sk-label-container {text-align: center;}#sk-container-id-1 div.sk-container {/* jupyter's `normalize.less` sets `[hidden] { display: none; }` but bootstrap.min.css set `[hidden] { display: none !important; }` so we also need the `!important` here to be able to override the default hidden behavior on the sphinx rendered scikit-learn.org. See: https://github.com/scikit-learn/scikit-learn/issues/21755 */display: inline-block !important;position: relative;}#sk-container-id-1 div.sk-text-repr-fallback {display: none;}</style><div id=\"sk-container-id-1\" class=\"sk-top-container\"><div class=\"sk-text-repr-fallback\"><pre>LogisticRegression(max_iter=200)</pre><b>In a Jupyter environment, please rerun this cell to show the HTML representation or trust the notebook. <br />On GitHub, the HTML representation is unable to render, please try loading this page with nbviewer.org.</b></div><div class=\"sk-container\" hidden><div class=\"sk-item\"><div class=\"sk-estimator sk-toggleable\"><input class=\"sk-toggleable__control sk-hidden--visually\" id=\"sk-estimator-id-1\" type=\"checkbox\" checked><label for=\"sk-estimator-id-1\" class=\"sk-toggleable__label sk-toggleable__label-arrow\">LogisticRegression</label><div class=\"sk-toggleable__content\"><pre>LogisticRegression(max_iter=200)</pre></div></div></div></div></div>"
      ],
      "text/plain": [
       "LogisticRegression(max_iter=200)"
      ]
     },
     "execution_count": 9,
     "metadata": {},
     "output_type": "execute_result"
    }
   ],
   "source": [
    "# Initialize the classifier (Logistic Regression in this case)\n",
    "classifier = LogisticRegression(max_iter=200)\n",
    "\n",
    "# Train the classifier\n",
    "classifier.fit(X_train_tfidf, y_train)\n"
   ]
  },
  {
   "cell_type": "code",
   "execution_count": 12,
   "id": "cca6dd4d-fac2-4e5f-af14-36b26e6673c1",
   "metadata": {},
   "outputs": [],
   "source": [
    "# Predict\n",
    "y_test_pred = classifier.predict(X_test_tfidf)\n",
    "test_data['Predicted_Genre'] = y_test_pred\n",
    "\n",
    "# Save the predictions to a new file using a single character separator\n",
    "test_data.to_csv('test_data_with_predictions_temp.csv', sep=',', index=False, header=False, encoding='utf-8')\n",
    "\n",
    "# Replace the comma delimiter with ' ::: ' in the output file\n",
    "with open('test_data_with_predictions_temp.csv', 'r', encoding='utf-8') as file:\n",
    "    filedata = file.read()\n",
    "\n",
    "filedata = filedata.replace(',', ' ::: ')\n",
    "\n",
    "with open('test_data_with_predictions.txt', 'w', encoding='utf-8') as file:\n",
    "    file.write(filedata)"
   ]
  },
  {
   "cell_type": "code",
   "execution_count": 13,
   "id": "b3fcc128-c8c1-41f5-95bc-e8ffa5b65cf7",
   "metadata": {},
   "outputs": [
    {
     "name": "stderr",
     "output_type": "stream",
     "text": [
      "C:\\Users\\Anant Kumar Jaiswal\\anaconda3\\Lib\\site-packages\\sklearn\\metrics\\_classification.py:1344: UndefinedMetricWarning: Precision and F-score are ill-defined and being set to 0.0 in labels with no predicted samples. Use `zero_division` parameter to control this behavior.\n",
      "  _warn_prf(average, modifier, msg_start, len(result))\n",
      "C:\\Users\\Anant Kumar Jaiswal\\anaconda3\\Lib\\site-packages\\sklearn\\metrics\\_classification.py:1344: UndefinedMetricWarning: Precision and F-score are ill-defined and being set to 0.0 in labels with no predicted samples. Use `zero_division` parameter to control this behavior.\n",
      "  _warn_prf(average, modifier, msg_start, len(result))\n"
     ]
    },
    {
     "name": "stdout",
     "output_type": "stream",
     "text": [
      "Accuracy: 0.5838191881918819\n",
      "Classification Report:\n",
      "              precision    recall  f1-score   support\n",
      "\n",
      "      action       0.48      0.29      0.36      1314\n",
      "       adult       0.61      0.24      0.34       590\n",
      "   adventure       0.59      0.17      0.26       775\n",
      "   animation       0.53      0.07      0.12       498\n",
      "   biography       0.00      0.00      0.00       264\n",
      "      comedy       0.53      0.58      0.55      7446\n",
      "       crime       0.37      0.04      0.08       505\n",
      " documentary       0.67      0.85      0.75     13096\n",
      "       drama       0.54      0.77      0.64     13612\n",
      "      family       0.49      0.09      0.15       783\n",
      "     fantasy       0.57      0.05      0.10       322\n",
      "   game-show       0.88      0.51      0.65       193\n",
      "     history       0.00      0.00      0.00       243\n",
      "      horror       0.64      0.57      0.61      2204\n",
      "       music       0.67      0.45      0.54       731\n",
      "     musical       0.33      0.02      0.04       276\n",
      "     mystery       0.36      0.02      0.03       318\n",
      "        news       0.69      0.06      0.11       181\n",
      "  reality-tv       0.52      0.18      0.27       883\n",
      "     romance       0.38      0.03      0.05       672\n",
      "      sci-fi       0.56      0.26      0.35       646\n",
      "       short       0.47      0.34      0.39      5072\n",
      "       sport       0.67      0.26      0.37       431\n",
      "   talk-show       0.59      0.16      0.25       391\n",
      "    thriller       0.39      0.13      0.20      1590\n",
      "         war       1.00      0.02      0.04       132\n",
      "     western       0.91      0.73      0.81      1032\n",
      "\n",
      "    accuracy                           0.58     54200\n",
      "   macro avg       0.53      0.26      0.30     54200\n",
      "weighted avg       0.57      0.58      0.54     54200\n",
      "\n"
     ]
    },
    {
     "name": "stderr",
     "output_type": "stream",
     "text": [
      "C:\\Users\\Anant Kumar Jaiswal\\anaconda3\\Lib\\site-packages\\sklearn\\metrics\\_classification.py:1344: UndefinedMetricWarning: Precision and F-score are ill-defined and being set to 0.0 in labels with no predicted samples. Use `zero_division` parameter to control this behavior.\n",
      "  _warn_prf(average, modifier, msg_start, len(result))\n"
     ]
    }
   ],
   "source": [
    "# Assuming test data has actual genres (not provided in your example)\n",
    "test_data_with_genre = pd.read_csv('test_data_solution.txt', sep=' ::: ', engine='python', names=['ID', 'Title', 'Genre', 'Description'])\n",
    "\n",
    "# Extract true genres\n",
    "y_test_true = test_data_with_genre['Genre']\n",
    "\n",
    "# Evaluate the classifier\n",
    "accuracy = accuracy_score(y_test_true, y_test_pred)\n",
    "report = classification_report(y_test_true, y_test_pred)\n",
    "\n",
    "print(f'Accuracy: {accuracy}')\n",
    "print(f'Classification Report:\\n{report}')\n"
   ]
  }
 ],
 "metadata": {
  "kernelspec": {
   "display_name": "Python 3 (ipykernel)",
   "language": "python",
   "name": "python3"
  },
  "language_info": {
   "codemirror_mode": {
    "name": "ipython",
    "version": 3
   },
   "file_extension": ".py",
   "mimetype": "text/x-python",
   "name": "python",
   "nbconvert_exporter": "python",
   "pygments_lexer": "ipython3",
   "version": "3.11.7"
  }
 },
 "nbformat": 4,
 "nbformat_minor": 5
}
